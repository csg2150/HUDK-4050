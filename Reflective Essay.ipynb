{
 "cells": [
  {
   "cell_type": "markdown",
   "id": "5506d318",
   "metadata": {},
   "source": [
    "When I was first starting out at TC, I came across an article about a TC student who was making a big impact with his data mining skills and I was so impressed. I didn't know what it meant back then, but I was both intimidated by how much he could do and hopeful that I could produce such meaningful research too.\n",
    "\n",
    "I was excited to take this course because I have taken many, many courses in statistics but I still feel like I only minimally understand it - just enough to pass exams in my classes. I hoped this class would help solidify this understanidng. I also had started learning HTML and CSS in my own time, so I was also excited that we would learn Python for this course, both because I had some background coding knowledge and I wanted to learn more.\n",
    "\n",
    "When the course started, I was most engaged in learning different coding functions. I remember spending most of my time learning Markdown shortcuts and cleaning data in Python. Aside from the research aspect, these were my biggest takeaways from the course. \n",
    "\n",
    "In terms of statistics, I got lost pretty quickly because data mining is different from the statistics tests from my undergraduate Psych Stats course, so it turns out I did not actually have any background knowledge in EDM. I felt the Analysis Challenge Assignments to be an excellent check for understanding, especially because the research questions seemed like such common questions to ask. \n",
    "\n",
    "When I didn't understand something, I was grateful that I could lean on my group to figure it out together. I was also grateful that we stayed friends after the icebreaker on the first day, and that our group slowly grew.\n",
    "\n",
    "Looking at where my skills are now, I feel I have learned enough Python to at least know what to Google and how to interpret and use it. I realized halfway through the semester that I could not possibly remember every single command, but that I would at least have a general understanding of how Python works, along with the thorough notes I took for each Individual Coding Exercise. I had wanted to do extra practice during the semester, but I never found the time for it.\n",
    "\n",
    "Several years ago, a phone interviewer asked if I had any experiences with \"large datasets\" and whether I knew how to \"tidy them\". I did not hear back from them after that interview. Moving forward, I'm excited that I will have one more interview question that I'll know I can answer with confidence. I also feel that my research possibilities have opened up, and I look forward to finding an opportunity to apply what I have learned this semester."
   ]
  }
 ],
 "metadata": {
  "kernelspec": {
   "display_name": "Python 3",
   "language": "python",
   "name": "python3"
  },
  "language_info": {
   "codemirror_mode": {
    "name": "ipython",
    "version": 3
   },
   "file_extension": ".py",
   "mimetype": "text/x-python",
   "name": "python",
   "nbconvert_exporter": "python",
   "pygments_lexer": "ipython3",
   "version": "3.8.8"
  }
 },
 "nbformat": 4,
 "nbformat_minor": 5
}
